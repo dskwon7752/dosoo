{
  "nbformat": 4,
  "nbformat_minor": 0,
  "metadata": {
    "kernelspec": {
      "display_name": "Python 3",
      "language": "python",
      "name": "python3"
    },
    "language_info": {
      "codemirror_mode": {
        "name": "ipython",
        "version": 3
      },
      "file_extension": ".py",
      "mimetype": "text/x-python",
      "name": "python",
      "nbconvert_exporter": "python",
      "pygments_lexer": "ipython3",
      "version": "3.7.9"
    },
    "colab": {
      "name": "1. Gen_case_ALL CASE_210918.ipynb",
      "provenance": [],
      "collapsed_sections": [],
      "include_colab_link": true
    }
  },
  "cells": [
    {
      "cell_type": "markdown",
      "metadata": {
        "id": "view-in-github",
        "colab_type": "text"
      },
      "source": [
        "<a href=\"https://colab.research.google.com/github/dskwon7752/dosoo/blob/master/1_Gen_case_ALL_CASE_210918.ipynb\" target=\"_parent\"><img src=\"https://colab.research.google.com/assets/colab-badge.svg\" alt=\"Open In Colab\"/></a>"
      ]
    },
    {
      "cell_type": "code",
      "metadata": {
        "id": "gkkvpSTJCDc0"
      },
      "source": [
        "import os"
      ],
      "execution_count": null,
      "outputs": []
    },
    {
      "cell_type": "code",
      "metadata": {
        "colab": {
          "base_uri": "https://localhost:8080/"
        },
        "id": "9l9gk0n1BqXK",
        "outputId": "b5a7e820-6efa-49dd-c65c-ba84f2e52ade"
      },
      "source": [
        "#@title Mount Drive { form-width: \"10%\" }\n",
        "from google.colab import drive\n",
        "drive.mount('/content/drive', force_remount=True)"
      ],
      "execution_count": null,
      "outputs": [
        {
          "output_type": "stream",
          "name": "stdout",
          "text": [
            "Mounted at /content/drive\n"
          ]
        }
      ]
    },
    {
      "cell_type": "code",
      "metadata": {
        "id": "ezqz2tRWB3gp"
      },
      "source": [
        "#@title Import Python Code { form-width: \"10%\" }\n",
        "os.chdir('/content/drive/MyDrive')\n",
        "filename = \"case.dat\"\n",
        "dirname = \"JI\"\n",
        "if not os.path.isdir(dirname):\n",
        "  os.mkdir(dirname)"
      ],
      "execution_count": null,
      "outputs": []
    },
    {
      "cell_type": "code",
      "metadata": {
        "id": "jacTP1AUEBl9"
      },
      "source": [
        "CS_list=['0.0','1.0','2.0'] # current speed 목록\n",
        "CD_list=['0.000','45.00','90.00','135.0','180.0','225.0','270.0','315.0'] # current direction 목록\n",
        "WD_list=['0.000','45.00','90.00','135.0','180.0','225.0','270.0','315.0'] # Wave direction 목록\n",
        "Tp_list=['0.5000','0.2222','0.1428','0.0952','0.0769'] # Tp 목록  * 주의 사항: 처음 dat에 입력 되어 있는 Tp가 동일한 4자릿수여야 함 ex) dat에 입력된 Tp가 0.xxxx 여야 함\n",
        "Hs_list=['0.10','0.50','1.00','1.50','2.00','2.50'] # Hs 목록"
      ],
      "execution_count": null,
      "outputs": []
    },
    {
      "cell_type": "code",
      "metadata": {
        "id": "lfELM-KtDFvv"
      },
      "source": [
        "def replaceVariables(lines, cs, cd, wd, hs, tp):\n",
        "# for i in lines \n",
        "  for i, line in enumerate(lines):\n",
        "    if 'CPRF' in line and '-20' in line:\n",
        "      line = line.replace(\"1\", cs)\n",
        "      line = line.replace(\"90\", cd)\n",
        "      lines[i] = line\n",
        "    elif 'CPRF' in line and '0' in line:\n",
        "      line = line.replace(\"1\", cs)\n",
        "      line = line.replace(\"90\", cd)\n",
        "      lines[i] = line\n",
        "    elif  'SPDN' in line:\n",
        "      line = line.replace(\"0\", wd)\n",
        "      lines[i] = line\n",
        "    elif  'JONH' in line:\n",
        "      line = line.replace(\"2.5\", hs)\n",
        "      line = line.replace(\"0.2222\", tp)\n",
        "      lines[i] = line\n",
        "  \n",
        "  return lines"
      ],
      "execution_count": null,
      "outputs": []
    },
    {
      "cell_type": "code",
      "metadata": {
        "id": "pviN-yttQGPQ"
      },
      "source": [
        "# for cs in CS_list:\n",
        "#   f = open(filename, 'r') # 기본 dat 파일 불러오기\n",
        "#   lines = f.readlines()\n",
        "#   newlines = replaceVariables(lines, cs, CD_list[0], WD_list[0], Hs_list[0], Tp_list[0])\n",
        "#   if not os.path.isdir(dirname):\n",
        "#     os.mkdir(dirname)\n",
        "#   nf = open('{}/case-{}-{}-{}-{}-{}.dat'.format(dirname, CS_list.index(cs)+1, 1, 1, 1, 1), 'w')\n",
        "#   nf.writelines(newlines)\n",
        "#   nf.close()\n",
        "#   f.close()\n",
        "for cs in CS_list:\n",
        "  for cd in CD_list:\n",
        "    for wd in WD_list:\n",
        "      for hs in Hs_list:\n",
        "        for tp in Tp_list:\n",
        "          f = open(filename, 'r') # 기본 dat 파일 불러오기\n",
        "          lines = f.readlines()\n",
        "          newlines = replaceVariables(lines, cs, cd, wd, hs, tp)\n",
        "          nf = open('{}/case-{}-{}-{}-{}-{}.dat'.format(dirname, \n",
        "                                                        CS_list.index(cs)+1, \n",
        "                                                        CD_list.index(cd)+1, \n",
        "                                                        WD_list.index(wd)+1, \n",
        "                                                        Hs_list.index(hs)+1, \n",
        "                                                        Tp_list.index(tp)+1), 'w')\n",
        "          nf.writelines(newlines)\n",
        "          nf.close()\n",
        "          f.close()\n"
      ],
      "execution_count": null,
      "outputs": []
    },
    {
      "cell_type": "code",
      "metadata": {
        "colab": {
          "base_uri": "https://localhost:8080/",
          "height": 232
        },
        "id": "DH7-ZJXVAC9A",
        "outputId": "8dba98de-92ff-492d-c7bb-1b885c0f79f5"
      },
      "source": [
        "# 1. 기본 dat 파일에 Tp, Hs 값 변경하여 케이스 생성\n",
        "\n",
        "# address='C:\\MooredBarge' # dat 파일 저장된 주소\n",
        "# name='case' # 기본 dat 파일 이름 ex) 'xxxx.dat' 라면 'xxxx' 입력\n",
        "\n",
        "CS_list=['0.0','1.0','2.0'] # current speed 목록\n",
        "#CS_list=['0.0','0.1','0.2','0.3','0.4','0.5','0.6','0.7','0.8','0.9','1.0','1.1','1.2','1.3','1.4','1.5','1.6','1.7','1.8','1.9','2.0',]\n",
        "CD_list=['0.000','45.00','90.00','135.0','180.0','225.0','270.0','315.0'] # current direction 목록\n",
        "#CD_list=['0','22.5','45','67.5','90','112.5','135','157.5','180','202.5','225','247.5','270','292.5','315','337.5']\n",
        "WD_list=['0.000','45.00','90.00','135.0','180.0','225.0','270.0','315.0'] # Wave direction 목록\n",
        "#WD_list=['0','22.5','45','67.5','90','112.5','135','157.5','180','202.5','225','247.5','270','292.5','315','337.5']\n",
        "Tp_list=['0.5000','0.2222','0.1428','0.0952','0.0769'] # Tp 목록  * 주의 사항: 처음 dat에 입력 되어 있는 Tp가 동일한 4자릿수여야 함 ex) dat에 입력된 Tp가 0.xxxx 여야 함\n",
        "#Tp_list=['0.5000','0.4000','0.3333','0.2857','0.2500','0.2222','0.2000','0.1818','0.1666','0.1538','0.1428','0.1250','0.1111','0.0952','0.0769','0.0625','0.0465'] # Tp 목록\n",
        "Hs_list=['0.10','0.50','1.00','1.50','2.00','2.50'] # Hs 목록\n",
        "\n",
        "f = open('{}\\\\{}.dat'.format(address,name), 'r') # 기본 dat 파일 불러오기\n",
        "lines = f.readlines()\n",
        "for line in lines:\n",
        "  if 'CPRF' in line:\n",
        "    print(line)\n",
        "\n",
        "# # 각 list들에 대한 case 생성 Loop\n",
        "# for CS_case_no in range(len(CS_list)):\n",
        "#     for CD_case_no in range(len(CD_list)):\n",
        "#         for WD_case_no in range(len(WD_list)):\n",
        "#             for Hs_case_no in range(len(Hs_list)):\n",
        "#                 for Tp_case_no in range(len(Tp_list)):\n",
        "                   \n",
        "\n",
        "                    # f_list = file.splitlines() # 불러온 dat 파일을 라인마다 list 형식으로 변환\n",
        "                    # Cur_str = '      CPRF      -20.        ' # CPRF라는 단어를 포함하는 문자열 (current speed, direction에 대한 문자열)\n",
        "                    # Cur2_str = '      CPRF        0.        ' # CPRF라는 단어를 포함하는 문자열 (current speed, direction에 대한 문자열)\n",
        "                    # WD_str = '      SPDN                ' # SPDN 이라는 단어를 포함하는 문자열 (wave direction에 대한 문자열)\n",
        "                    # Wave_str = '      JONH                               ' # JONH 이라는 단어를 포함하는 문자열 (jonhswap 스펙트럼에대한 정보가 입력 되어 있는 문자열)\n",
        "\n",
        "                    # Orig1_str = [A for A in f_list if Cur_str in A][0] # CPRF -20 문구가 포함된 문자열 찾음\n",
        "                    # Orig2_str = [A for A in f_list if Cur2_str in A][0] # CPRF 0 문구가 포함된 문자열 찾음\n",
        "                    # Orig3_str = [A for A in f_list if WD_str in A][0] # SPDN 문구가 포함된 문자열 찾음\n",
        "                    # Orig4_str = [A for A in f_list if Wave_str in A][0] # JONH 문구가 포함된 문자열 찾음\n",
        "\n",
        "                    # New1_str = Orig1_str\n",
        "                    # New2_str = Orig2_str\n",
        "                    # New3_str = Orig3_str\n",
        "                    # New4_str = Orig4_str\n",
        "                    \n",
        "                    # New1_str = New1_str.replace(Orig1_str[27:30], CS_list[CS_case_no]) # 기존 문자열의 CS 위치에 CS list의 CS로 변경\n",
        "                    # New1_str = New1_str.replace(Orig1_str[35:40], CD_list[CD_case_no]) # 기존 문자열의 CS 위치에 CS list의 CS로 변경\n",
        "                    # New2_str = New2_str.replace(Orig2_str[27:30], CS_list[CS_case_no]) # 기존 문자열의 CD 위치에 CD list의 CD로 변경                    \n",
        "                    # New2_str = New2_str.replace(Orig2_str[35:40], CD_list[CD_case_no]) # 기존 문자열의 CD 위치에 CD list의 CD로 변경\n",
        "                    # New3_str = New3_str.replace(Orig3_str[25:30], WD_list[WD_case_no]) # 기존 문자열의 WD 위치에 WD list의 WD로 변경\n",
        "                    # New4_str = New4_str.replace(Orig4_str[56:60], Hs_list[Hs_case_no]) # 기존 문자열의 Hs 위치에 Hs list의 Hs로 변경\n",
        "                    # New4_str = New4_str.replace(Orig4_str[62:], Tp_list[Tp_case_no]) # 기존 문자열의 Tp 위치에 Tp list의 Tp로 변경\n",
        "                    \n",
        "                    # for line in f_list:\n",
        "                    #     if line == Orig1_str:\n",
        "                    #         line = New1_str \n",
        "                    #     if line == Orig2_str:\n",
        "                    #         line = New2_str\n",
        "                    #     if line == Orig3_str:\n",
        "                    #         line = New3_str\n",
        "                    #     if line == Orig4_str:\n",
        "                    #         line = New4_str                \n",
        "                    #     fn = open('{}\\\\case{}-{}-{}-{}-{}.dat'.format(address, CS_case_no+1, CD_case_no+1, WD_case_no+1, Hs_case_no+1, Tp_case_no+1), 'a') # 변경 하여 저장\n",
        "                    #     fn.write(line + '\\n')\n",
        "                    #     fn.close()\n",
        "                    # f.close() # close (불러오고 닫아야 하므로)"
      ],
      "execution_count": null,
      "outputs": [
        {
          "output_type": "error",
          "ename": "FileNotFoundError",
          "evalue": "ignored",
          "traceback": [
            "\u001b[0;31m---------------------------------------------------------------------------\u001b[0m",
            "\u001b[0;31mFileNotFoundError\u001b[0m                         Traceback (most recent call last)",
            "\u001b[0;32m<ipython-input-4-b0056f43c863>\u001b[0m in \u001b[0;36m<module>\u001b[0;34m()\u001b[0m\n\u001b[1;32m     14\u001b[0m \u001b[0mHs_list\u001b[0m\u001b[0;34m=\u001b[0m\u001b[0;34m[\u001b[0m\u001b[0;34m'0.10'\u001b[0m\u001b[0;34m,\u001b[0m\u001b[0;34m'0.50'\u001b[0m\u001b[0;34m,\u001b[0m\u001b[0;34m'1.00'\u001b[0m\u001b[0;34m,\u001b[0m\u001b[0;34m'1.50'\u001b[0m\u001b[0;34m,\u001b[0m\u001b[0;34m'2.00'\u001b[0m\u001b[0;34m,\u001b[0m\u001b[0;34m'2.50'\u001b[0m\u001b[0;34m]\u001b[0m \u001b[0;31m# Hs 목록\u001b[0m\u001b[0;34m\u001b[0m\u001b[0;34m\u001b[0m\u001b[0m\n\u001b[1;32m     15\u001b[0m \u001b[0;34m\u001b[0m\u001b[0m\n\u001b[0;32m---> 16\u001b[0;31m \u001b[0mf\u001b[0m \u001b[0;34m=\u001b[0m \u001b[0mopen\u001b[0m\u001b[0;34m(\u001b[0m\u001b[0;34m'{}\\\\{}.dat'\u001b[0m\u001b[0;34m.\u001b[0m\u001b[0mformat\u001b[0m\u001b[0;34m(\u001b[0m\u001b[0maddress\u001b[0m\u001b[0;34m,\u001b[0m\u001b[0mname\u001b[0m\u001b[0;34m)\u001b[0m\u001b[0;34m,\u001b[0m \u001b[0;34m'r'\u001b[0m\u001b[0;34m)\u001b[0m \u001b[0;31m# 기본 dat 파일 불러오기\u001b[0m\u001b[0;34m\u001b[0m\u001b[0;34m\u001b[0m\u001b[0m\n\u001b[0m\u001b[1;32m     17\u001b[0m \u001b[0mlines\u001b[0m \u001b[0;34m=\u001b[0m \u001b[0mf\u001b[0m\u001b[0;34m.\u001b[0m\u001b[0mreadlines\u001b[0m\u001b[0;34m(\u001b[0m\u001b[0;34m)\u001b[0m\u001b[0;34m\u001b[0m\u001b[0;34m\u001b[0m\u001b[0m\n\u001b[1;32m     18\u001b[0m \u001b[0;32mfor\u001b[0m \u001b[0mline\u001b[0m \u001b[0;32min\u001b[0m \u001b[0mlines\u001b[0m\u001b[0;34m:\u001b[0m\u001b[0;34m\u001b[0m\u001b[0;34m\u001b[0m\u001b[0m\n",
            "\u001b[0;31mFileNotFoundError\u001b[0m: [Errno 2] No such file or directory: 'C:\\\\MooredBarge\\\\case.dat'"
          ]
        }
      ]
    },
    {
      "cell_type": "code",
      "metadata": {
        "id": "OcDlpdhpAC9H"
      },
      "source": [
        ""
      ],
      "execution_count": null,
      "outputs": []
    }
  ]
}